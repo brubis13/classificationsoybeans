{
  "nbformat": 4,
  "nbformat_minor": 0,
  "metadata": {
    "accelerator": "GPU",
    "colab": {
      "name": "TrainingFromScratchVGG16.ipynb",
      "provenance": [],
      "collapsed_sections": []
    },
    "kernelspec": {
      "display_name": "Python 3",
      "name": "python3"
    }
  },
  "cells": [
    {
      "cell_type": "code",
      "metadata": {
        "id": "v6ZcEUOYzDRm"
      },
      "source": [
        "from google.colab import drive\n",
        "drive.mount('/content/drive')"
      ],
      "execution_count": null,
      "outputs": []
    },
    {
      "cell_type": "code",
      "metadata": {
        "id": "lSf0OQpTzGao"
      },
      "source": [
        "import tensorflow as tf\n",
        "import numpy as np\n",
        "import pickle\n",
        "from glob import glob\n",
        "from keras.layers import Dense,Flatten\n",
        "import cv2\n",
        "import os\n",
        "import glob\n",
        "import matplotlib.pyplot as plt\n",
        "import numpy as np\n",
        "import tensorflow as tf\n",
        "from fastai.imports import *\n",
        "from fastai.vision import *\n",
        "from fastai.metrics import error_rate\n",
        "\n"
      ],
      "execution_count": null,
      "outputs": []
    },
    {
      "cell_type": "code",
      "metadata": {
        "id": "4_19xft4zNpv"
      },
      "source": [
        "train_files = \"/content/drive/My Drive/Graos100/Treino\"\n",
        "test_files = \"/content/drive/My Drive/Graos100/Teste\"\n",
        "model_save_location = \"/content/drive/My Drive/Graos100/model\""
      ],
      "execution_count": null,
      "outputs": []
    },
    {
      "cell_type": "code",
      "metadata": {
        "id": "n9TlS4kLzQvl"
      },
      "source": [
        "from tensorflow.keras.preprocessing.image import ImageDataGenerator\n"
      ],
      "execution_count": null,
      "outputs": []
    },
    {
      "cell_type": "code",
      "metadata": {
        "id": "rOMa3CaHzTBo"
      },
      "source": [
        "classes = 9\n",
        "loss = 'categorical_crossentropy'\n",
        "activation = 'softmax'\n",
        "epochs = 20"
      ],
      "execution_count": null,
      "outputs": []
    },
    {
      "cell_type": "code",
      "metadata": {
        "id": "2aE35hETzUth"
      },
      "source": [
        "def scheduler(epoch, lr):\n",
        "    if epoch < 60:\n",
        "        return lr\n",
        "    else:\n",
        "        return 0.0001\n",
        "\n",
        "callback = tf.keras.callbacks.LearningRateScheduler(scheduler)"
      ],
      "execution_count": null,
      "outputs": []
    },
    {
      "cell_type": "code",
      "metadata": {
        "id": "7KqupIIHzXUh"
      },
      "source": [
        "train_datagen = ImageDataGenerator(\n",
        "    rescale=1./255,\n",
        "    rotation_range=40,\n",
        "    width_shift_range=0.2,\n",
        "    height_shift_range=0.2,\n",
        "    shear_range=0.2,\n",
        "    zoom_range=0.2,\n",
        "    horizontal_flip=True,\n",
        "    fill_mode='nearest'\n",
        "    )"
      ],
      "execution_count": null,
      "outputs": []
    },
    {
      "cell_type": "code",
      "metadata": {
        "id": "bhkgB8rHzY2X"
      },
      "source": [
        "test_datagen = ImageDataGenerator(\n",
        "    rescale=1./255\n",
        "    )\n"
      ],
      "execution_count": null,
      "outputs": []
    },
    {
      "cell_type": "code",
      "metadata": {
        "colab": {
          "base_uri": "https://localhost:8080/"
        },
        "id": "i4WxVg2cnQp1",
        "outputId": "b20514d3-3f93-4049-ed01-7e45c31b0280"
      },
      "source": [
        "train_generator = train_datagen.flow_from_directory(\n",
        "    train_files,\n",
        "    target_size=(224, 224),\n",
        "    batch_size = 20,\n",
        "    class_mode = 'categorical'\n",
        "    )\n"
      ],
      "execution_count": null,
      "outputs": [
        {
          "output_type": "stream",
          "text": [
            "Found 900 images belonging to 9 classes.\n"
          ],
          "name": "stdout"
        }
      ]
    },
    {
      "cell_type": "code",
      "metadata": {
        "colab": {
          "base_uri": "https://localhost:8080/"
        },
        "id": "_SKcrAqrnSoC",
        "outputId": "9f8c917d-f5ad-4358-e30d-626fd44b5a0d"
      },
      "source": [
        "test_generator = test_datagen.flow_from_directory(\n",
        "    test_files,\n",
        "    target_size=(224, 224),\n",
        "    batch_size = 20,\n",
        "    class_mode = 'categorical'\n",
        "    )"
      ],
      "execution_count": null,
      "outputs": [
        {
          "output_type": "stream",
          "text": [
            "Found 45 images belonging to 9 classes.\n"
          ],
          "name": "stdout"
        }
      ]
    },
    {
      "cell_type": "code",
      "metadata": {
        "id": "x1wyU7D5nUXZ"
      },
      "source": [
        "with open('./class_indices', 'wb') as file_pi:\n",
        "    pickle.dump(train_generator.class_indices, file_pi)\n",
        "\n",
        "optimizer = tf.keras.optimizers.Adam(learning_rate=0.001)\n",
        "\n",
        "model = tf.keras.applications.VGG16(weights='imagenet', include_top=True)\n",
        "\n"
      ],
      "execution_count": null,
      "outputs": []
    },
    {
      "cell_type": "code",
      "metadata": {
        "colab": {
          "base_uri": "https://localhost:8080/"
        },
        "id": "t_j4g_qg1Pd4",
        "outputId": "c5aa9445-5e61-4564-df8b-4f2041a1c8f6"
      },
      "source": [
        "model.input\n",
        "\n",
        "# model.summary(line_length=150)\n",
        "\n",
        "model.layers.pop()\n",
        "model.layers.pop()\n",
        "\n",
        "# model.summary(line_length=150)\n",
        "\n",
        "new_layer = Dense(9, activation='softmax', name='my_dense')\n",
        "\n",
        "inp = model.input\n",
        "out = new_layer(model.layers[-1].output)\n",
        "\n",
        "model2 = tf.keras.Model(inp, out)\n",
        "model2.summary(line_length=150)\n"
      ],
      "execution_count": null,
      "outputs": [
        {
          "output_type": "stream",
          "text": [
            "Model: \"model_2\"\n",
            "______________________________________________________________________________________________________________________________________________________\n",
            "Layer (type)                                                       Output Shape                                                Param #                \n",
            "======================================================================================================================================================\n",
            "input_5 (InputLayer)                                               [(None, 224, 224, 3)]                                       0                      \n",
            "______________________________________________________________________________________________________________________________________________________\n",
            "block1_conv1 (Conv2D)                                              (None, 224, 224, 64)                                        1792                   \n",
            "______________________________________________________________________________________________________________________________________________________\n",
            "block1_conv2 (Conv2D)                                              (None, 224, 224, 64)                                        36928                  \n",
            "______________________________________________________________________________________________________________________________________________________\n",
            "block1_pool (MaxPooling2D)                                         (None, 112, 112, 64)                                        0                      \n",
            "______________________________________________________________________________________________________________________________________________________\n",
            "block2_conv1 (Conv2D)                                              (None, 112, 112, 128)                                       73856                  \n",
            "______________________________________________________________________________________________________________________________________________________\n",
            "block2_conv2 (Conv2D)                                              (None, 112, 112, 128)                                       147584                 \n",
            "______________________________________________________________________________________________________________________________________________________\n",
            "block2_pool (MaxPooling2D)                                         (None, 56, 56, 128)                                         0                      \n",
            "______________________________________________________________________________________________________________________________________________________\n",
            "block3_conv1 (Conv2D)                                              (None, 56, 56, 256)                                         295168                 \n",
            "______________________________________________________________________________________________________________________________________________________\n",
            "block3_conv2 (Conv2D)                                              (None, 56, 56, 256)                                         590080                 \n",
            "______________________________________________________________________________________________________________________________________________________\n",
            "block3_conv3 (Conv2D)                                              (None, 56, 56, 256)                                         590080                 \n",
            "______________________________________________________________________________________________________________________________________________________\n",
            "block3_pool (MaxPooling2D)                                         (None, 28, 28, 256)                                         0                      \n",
            "______________________________________________________________________________________________________________________________________________________\n",
            "block4_conv1 (Conv2D)                                              (None, 28, 28, 512)                                         1180160                \n",
            "______________________________________________________________________________________________________________________________________________________\n",
            "block4_conv2 (Conv2D)                                              (None, 28, 28, 512)                                         2359808                \n",
            "______________________________________________________________________________________________________________________________________________________\n",
            "block4_conv3 (Conv2D)                                              (None, 28, 28, 512)                                         2359808                \n",
            "______________________________________________________________________________________________________________________________________________________\n",
            "block4_pool (MaxPooling2D)                                         (None, 14, 14, 512)                                         0                      \n",
            "______________________________________________________________________________________________________________________________________________________\n",
            "block5_conv1 (Conv2D)                                              (None, 14, 14, 512)                                         2359808                \n",
            "______________________________________________________________________________________________________________________________________________________\n",
            "block5_conv2 (Conv2D)                                              (None, 14, 14, 512)                                         2359808                \n",
            "______________________________________________________________________________________________________________________________________________________\n",
            "block5_conv3 (Conv2D)                                              (None, 14, 14, 512)                                         2359808                \n",
            "______________________________________________________________________________________________________________________________________________________\n",
            "block5_pool (MaxPooling2D)                                         (None, 7, 7, 512)                                           0                      \n",
            "______________________________________________________________________________________________________________________________________________________\n",
            "flatten (Flatten)                                                  (None, 25088)                                               0                      \n",
            "______________________________________________________________________________________________________________________________________________________\n",
            "fc1 (Dense)                                                        (None, 4096)                                                102764544              \n",
            "______________________________________________________________________________________________________________________________________________________\n",
            "fc2 (Dense)                                                        (None, 4096)                                                16781312               \n",
            "______________________________________________________________________________________________________________________________________________________\n",
            "predictions (Dense)                                                (None, 1000)                                                4097000                \n",
            "______________________________________________________________________________________________________________________________________________________\n",
            "my_dense (Dense)                                                   (None, 9)                                                   9009                   \n",
            "======================================================================================================================================================\n",
            "Total params: 138,366,553\n",
            "Trainable params: 138,366,553\n",
            "Non-trainable params: 0\n",
            "______________________________________________________________________________________________________________________________________________________\n"
          ],
          "name": "stdout"
        }
      ]
    },
    {
      "cell_type": "code",
      "metadata": {
        "colab": {
          "base_uri": "https://localhost:8080/"
        },
        "id": "7H6meug71S9L",
        "outputId": "931a4faf-8b40-4c23-8900-97d5cad619d7"
      },
      "source": [
        "model2.compile(optimizer=optimizer, loss=loss, metrics=['accuracy'])\n",
        "\n",
        "history = model2.fit(train_generator, epochs=epochs, validation_data=test_generator, callbacks=[callback])\n",
        "\n",
        "model2.save(model_save_location)"
      ],
      "execution_count": null,
      "outputs": [
        {
          "output_type": "stream",
          "text": [
            "Epoch 1/20\n",
            "45/45 [==============================] - 18s 369ms/step - loss: 2.1997 - accuracy: 0.1029 - val_loss: 2.1981 - val_accuracy: 0.1111\n",
            "Epoch 2/20\n",
            "45/45 [==============================] - 17s 363ms/step - loss: 2.1981 - accuracy: 0.1052 - val_loss: 2.1979 - val_accuracy: 0.1111\n",
            "Epoch 3/20\n",
            "45/45 [==============================] - 16s 361ms/step - loss: 2.1974 - accuracy: 0.1089 - val_loss: 2.1977 - val_accuracy: 0.1111\n",
            "Epoch 4/20\n",
            "45/45 [==============================] - 17s 363ms/step - loss: 2.1974 - accuracy: 0.1242 - val_loss: 2.1976 - val_accuracy: 0.1111\n",
            "Epoch 5/20\n",
            "45/45 [==============================] - 17s 363ms/step - loss: 2.1981 - accuracy: 0.1022 - val_loss: 2.1975 - val_accuracy: 0.1111\n",
            "Epoch 6/20\n",
            "45/45 [==============================] - 17s 365ms/step - loss: 2.1975 - accuracy: 0.1182 - val_loss: 2.1974 - val_accuracy: 0.1111\n",
            "Epoch 7/20\n",
            "45/45 [==============================] - 17s 365ms/step - loss: 2.1971 - accuracy: 0.0878 - val_loss: 2.1973 - val_accuracy: 0.1111\n",
            "Epoch 8/20\n",
            "45/45 [==============================] - 17s 365ms/step - loss: 2.1979 - accuracy: 0.1026 - val_loss: 2.1973 - val_accuracy: 0.1111\n",
            "Epoch 9/20\n",
            "45/45 [==============================] - 17s 366ms/step - loss: 2.1978 - accuracy: 0.1198 - val_loss: 2.1973 - val_accuracy: 0.1111\n",
            "Epoch 10/20\n",
            "45/45 [==============================] - 17s 366ms/step - loss: 2.1980 - accuracy: 0.0958 - val_loss: 2.1973 - val_accuracy: 0.1111\n",
            "Epoch 11/20\n",
            "45/45 [==============================] - 17s 369ms/step - loss: 2.1976 - accuracy: 0.1134 - val_loss: 2.1973 - val_accuracy: 0.1111\n",
            "Epoch 12/20\n",
            "45/45 [==============================] - 17s 368ms/step - loss: 2.1983 - accuracy: 0.1014 - val_loss: 2.1973 - val_accuracy: 0.1111\n",
            "Epoch 13/20\n",
            "45/45 [==============================] - 17s 367ms/step - loss: 2.1972 - accuracy: 0.1134 - val_loss: 2.1973 - val_accuracy: 0.1111\n",
            "Epoch 14/20\n",
            "45/45 [==============================] - 17s 369ms/step - loss: 2.1978 - accuracy: 0.1171 - val_loss: 2.1972 - val_accuracy: 0.1111\n",
            "Epoch 15/20\n",
            "45/45 [==============================] - 17s 371ms/step - loss: 2.1974 - accuracy: 0.1088 - val_loss: 2.1972 - val_accuracy: 0.1111\n",
            "Epoch 16/20\n",
            "45/45 [==============================] - 17s 369ms/step - loss: 2.1972 - accuracy: 0.1215 - val_loss: 2.1972 - val_accuracy: 0.1111\n",
            "Epoch 17/20\n",
            "45/45 [==============================] - 17s 369ms/step - loss: 2.1973 - accuracy: 0.1056 - val_loss: 2.1972 - val_accuracy: 0.1111\n",
            "Epoch 18/20\n",
            "45/45 [==============================] - 17s 369ms/step - loss: 2.1974 - accuracy: 0.0960 - val_loss: 2.1972 - val_accuracy: 0.1111\n",
            "Epoch 19/20\n",
            "45/45 [==============================] - 17s 370ms/step - loss: 2.1974 - accuracy: 0.1065 - val_loss: 2.1972 - val_accuracy: 0.1111\n",
            "Epoch 20/20\n",
            "45/45 [==============================] - 17s 373ms/step - loss: 2.1975 - accuracy: 0.0798 - val_loss: 2.1972 - val_accuracy: 0.1111\n",
            "INFO:tensorflow:Assets written to: /content/drive/My Drive/Graos100/model/assets\n"
          ],
          "name": "stdout"
        }
      ]
    },
    {
      "cell_type": "code",
      "metadata": {
        "id": "B3vuua2PoSfH"
      },
      "source": [
        "#The accuracy value was really low. But we have a few reasons:\n",
        "#The image base is considered to be a base of few images. Because of this, training \n",
        "#a network from scratch with few images, does not bring a satisfactory result.\n",
        "#In addition, the training and test images are very similar, making the network not learn different patterns."
      ],
      "execution_count": null,
      "outputs": []
    }
  ]
}